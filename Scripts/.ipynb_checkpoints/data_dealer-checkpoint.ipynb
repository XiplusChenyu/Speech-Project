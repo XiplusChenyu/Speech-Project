{
 "cells": [
  {
   "cell_type": "code",
   "execution_count": 22,
   "metadata": {},
   "outputs": [],
   "source": [
    "import numpy as np\n",
    "import librosa\n",
    "import librosa.display as display\n",
    "import matplotlib.pyplot as plt\n",
    "import os\n",
    "import h5py\n",
    "import time\n",
    "from config import PARAS\n",
    "\n",
    "\n",
    "MIX_PATH = '../DSD100/Mixtures'\n",
    "SRC_PATH = '../DSD100/Sources'"
   ]
  },
  {
   "cell_type": "markdown",
   "metadata": {},
   "source": [
    "# Get File Paths\n",
    "\n",
    "- Path Dictionary\n",
    "    - Music File Name\n",
    "        - Track 1 -> path\n",
    "        - Track 2 -> path"
   ]
  },
  {
   "cell_type": "code",
   "execution_count": 23,
   "metadata": {},
   "outputs": [],
   "source": [
    "dev_file_paths = dict()\n",
    "test_file_paths = dict()\n",
    "\n",
    "for (dirpath, dirnames, filenames) in os.walk(MIX_PATH):\n",
    "    if not dirnames:\n",
    "        if 'Test' in dirpath:\n",
    "            file_name = dirpath.split('Test/')[-1]\n",
    "            test_file_paths[file_name] = dict()\n",
    "            test_file_paths[file_name]['mix'] = dirpath + '/' + filenames[0]\n",
    "        elif 'Dev' in dirpath:\n",
    "            file_name = dirpath.split('Dev/')[-1]\n",
    "            dev_file_paths[file_name] = dict()\n",
    "            dev_file_paths[file_name]['mix'] = dirpath + '/' + filenames[0]\n",
    "\n",
    "for (dirpath, dirnames, filenames) in os.walk(SRC_PATH):\n",
    "\n",
    "    if not dirnames:\n",
    "        if 'Test' in dirpath:\n",
    "            file_name = dirpath.split('Test/')[-1]\n",
    "            for trackname in filenames:\n",
    "                track = trackname.split('.wav')[0]\n",
    "                test_file_paths[file_name][track] = dirpath + '/' + trackname\n",
    "        elif 'Dev' in dirpath:\n",
    "            file_name = dirpath.split('Dev/')[-1]\n",
    "            for trackname in filenames:\n",
    "                track = trackname.split('.wav')[0]\n",
    "                dev_file_paths[file_name][track] = dirpath + '/' + trackname\n",
    "    "
   ]
  },
  {
   "cell_type": "markdown",
   "metadata": {},
   "source": [
    "# Build Feature Extractor"
   ]
  },
  {
   "cell_type": "code",
   "execution_count": 24,
   "metadata": {},
   "outputs": [
    {
     "data": {
      "text/plain": [
       "{'SR': 16000, 'N_FRAME': 1024, 'N_MEL': 512}"
      ]
     },
     "execution_count": 24,
     "metadata": {},
     "output_type": "execute_result"
    }
   ],
   "source": [
    "PARAS.SIGNAL_PARAS"
   ]
  },
  {
   "cell_type": "code",
   "execution_count": null,
   "metadata": {},
   "outputs": [],
   "source": []
  }
 ],
 "metadata": {
  "kernelspec": {
   "display_name": "Python 3",
   "language": "python",
   "name": "python3"
  },
  "language_info": {
   "codemirror_mode": {
    "name": "ipython",
    "version": 3
   },
   "file_extension": ".py",
   "mimetype": "text/x-python",
   "name": "python",
   "nbconvert_exporter": "python",
   "pygments_lexer": "ipython3",
   "version": "3.6.8"
  }
 },
 "nbformat": 4,
 "nbformat_minor": 2
}
